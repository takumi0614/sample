{
  "nbformat": 4,
  "nbformat_minor": 0,
  "metadata": {
    "colab": {
      "name": "first_colab.ipynb",
      "provenance": [],
      "collapsed_sections": [],
      "authorship_tag": "ABX9TyMYMXDTWezT29oFKsHvspI1",
      "include_colab_link": true
    },
    "kernelspec": {
      "name": "python3",
      "display_name": "Python 3"
    }
  },
  "cells": [
    {
      "cell_type": "markdown",
      "metadata": {
        "id": "view-in-github",
        "colab_type": "text"
      },
      "source": [
        "<a href=\"https://colab.research.google.com/github/takumi0614/sample/blob/main/first_colab.ipynb\" target=\"_parent\"><img src=\"https://colab.research.google.com/assets/colab-badge.svg\" alt=\"Open In Colab\"/></a>"
      ]
    },
    {
      "cell_type": "code",
      "metadata": {
        "colab": {
          "base_uri": "https://localhost:8080/"
        },
        "id": "9bSzICIbM-5W",
        "outputId": "05bc9115-2103-429b-9973-6424debb8de7"
      },
      "source": [
        "print(\"Hello world\")"
      ],
      "execution_count": 1,
      "outputs": [
        {
          "output_type": "stream",
          "text": [
            "Hello world\n"
          ],
          "name": "stdout"
        }
      ]
    },
    {
      "cell_type": "code",
      "metadata": {
        "colab": {
          "base_uri": "https://localhost:8080/"
        },
        "id": "tH7n4AsWNr7H",
        "outputId": "912be9fd-1039-493e-cea7-ee00f3fb8f0c"
      },
      "source": [
        "a = 3\r\n",
        "b = 4\r\n",
        "print(a+b)"
      ],
      "execution_count": 2,
      "outputs": [
        {
          "output_type": "stream",
          "text": [
            "7\n"
          ],
          "name": "stdout"
        }
      ]
    },
    {
      "cell_type": "markdown",
      "metadata": {
        "id": "8ukHE9k9N4TI"
      },
      "source": [
        "** python**で*人工知能*のコードを書いていきましょう。  \r\n",
        "colabにはコードセルとテキストがあります。\r\n",
        "\r\n",
        "1.   リスト項目\r\n",
        "2.   リスト項目\r\n",
        "3.番号付きの箇条書きです\r\n",
        "\r\n",
        "*   リスト項目\r\n",
        "*   リスト項目\r\n",
        "*箇条書きです\r\n",
        "\r\n",
        "[Google検索](https://google.com)\r\n",
        "\r\n",
        "\r\n",
        "\r\n",
        "\r\n",
        "\r\n",
        " "
      ]
    },
    {
      "cell_type": "markdown",
      "metadata": {
        "id": "pr5-ejxTPWul"
      },
      "source": [
        "$$ y=2x+1 $$"
      ]
    }
  ]
}